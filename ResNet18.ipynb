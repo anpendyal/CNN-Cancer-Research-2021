{
  "nbformat": 4,
  "nbformat_minor": 0,
  "metadata": {
    "colab": {
      "name": "ResNet18.ipynb",
      "provenance": [],
      "authorship_tag": "ABX9TyNYxQR/XMy0RN7HjgjQ3jhS",
      "include_colab_link": true
    },
    "kernelspec": {
      "name": "python3",
      "display_name": "Python 3"
    },
    "language_info": {
      "name": "python"
    }
  },
  "cells": [
    {
      "cell_type": "markdown",
      "metadata": {
        "id": "view-in-github",
        "colab_type": "text"
      },
      "source": [
        "<a href=\"https://colab.research.google.com/github/anpendyal/Convolutional-Neural-Networks-in-Breast-Cancer-Identification-Research-10th-Grade-/blob/main/ResNet18.ipynb\" target=\"_parent\"><img src=\"https://colab.research.google.com/assets/colab-badge.svg\" alt=\"Open In Colab\"/></a>"
      ]
    },
    {
      "cell_type": "code",
      "metadata": {
        "colab": {
          "base_uri": "https://localhost:8080/"
        },
        "id": "7UHqFp4XnFGS",
        "outputId": "eb2d61f3-d12d-4d2d-866d-5a84dc39fd7a"
      },
      "source": [
        "#give program access to google drive where the dataset is\n",
        "from google.colab import drive\n",
        "drive.mount('/content/drive')"
      ],
      "execution_count": null,
      "outputs": [
        {
          "output_type": "stream",
          "name": "stdout",
          "text": [
            "Mounted at /content/drive\n"
          ]
        }
      ]
    },
    {
      "cell_type": "code",
      "metadata": {
        "colab": {
          "base_uri": "https://localhost:8080/"
        },
        "id": "9G0y8yUqkmS8",
        "outputId": "d4be6eb9-02af-43de-8434-402ce6bbf48e"
      },
      "source": [
        "#install library to get resnet18 because it is not included in keras\n",
        "!pip install git+https://github.com/qubvel/classification_models.git"
      ],
      "execution_count": null,
      "outputs": [
        {
          "output_type": "stream",
          "name": "stdout",
          "text": [
            "Collecting git+https://github.com/qubvel/classification_models.git\n",
            "  Cloning https://github.com/qubvel/classification_models.git to /tmp/pip-req-build-u9148rxw\n",
            "  Running command git clone -q https://github.com/qubvel/classification_models.git /tmp/pip-req-build-u9148rxw\n",
            "  Running command git submodule update --init --recursive -q\n",
            "Collecting keras_applications<=1.0.8,>=1.0.7\n",
            "  Downloading Keras_Applications-1.0.8-py3-none-any.whl (50 kB)\n",
            "\u001b[K     |████████████████████████████████| 50 kB 3.1 MB/s \n",
            "\u001b[?25hRequirement already satisfied: numpy>=1.9.1 in /usr/local/lib/python3.7/dist-packages (from keras_applications<=1.0.8,>=1.0.7->image-classifiers==1.0.0) (1.21.5)\n",
            "Requirement already satisfied: h5py in /usr/local/lib/python3.7/dist-packages (from keras_applications<=1.0.8,>=1.0.7->image-classifiers==1.0.0) (3.1.0)\n",
            "Requirement already satisfied: cached-property in /usr/local/lib/python3.7/dist-packages (from h5py->keras_applications<=1.0.8,>=1.0.7->image-classifiers==1.0.0) (1.5.2)\n",
            "Building wheels for collected packages: image-classifiers\n",
            "  Building wheel for image-classifiers (setup.py) ... \u001b[?25l\u001b[?25hdone\n",
            "  Created wheel for image-classifiers: filename=image_classifiers-1.0.0-py3-none-any.whl size=20046 sha256=f66c6783719dee3d4894d160114b45f1633dc530b1fe2d1736b7991593bd0749\n",
            "  Stored in directory: /tmp/pip-ephem-wheel-cache-bam7_q9l/wheels/0b/96/56/27b17c903efc647c51e4f364bfc20aa67f8d3dccad63c4fb4e\n",
            "Successfully built image-classifiers\n",
            "Installing collected packages: keras-applications, image-classifiers\n",
            "Successfully installed image-classifiers-1.0.0 keras-applications-1.0.8\n"
          ]
        }
      ]
    },
    {
      "cell_type": "code",
      "metadata": {
        "colab": {
          "base_uri": "https://localhost:8080/"
        },
        "id": "U0M8cxChlqbC",
        "outputId": "3b4a1229-3cc7-4854-a408-239e5eedb5ca"
      },
      "source": [
        "#tensorflow keras models\n",
        "from classification_models.tfkeras import Classifiers\n",
        "Classifiers.models_names()"
      ],
      "execution_count": null,
      "outputs": [
        {
          "output_type": "execute_result",
          "data": {
            "text/plain": [
              "['resnet18',\n",
              " 'resnet34',\n",
              " 'resnet50',\n",
              " 'resnet101',\n",
              " 'resnet152',\n",
              " 'seresnet18',\n",
              " 'seresnet34',\n",
              " 'seresnet50',\n",
              " 'seresnet101',\n",
              " 'seresnet152',\n",
              " 'seresnext50',\n",
              " 'seresnext101',\n",
              " 'senet154',\n",
              " 'resnet50v2',\n",
              " 'resnet101v2',\n",
              " 'resnet152v2',\n",
              " 'resnext50',\n",
              " 'resnext101',\n",
              " 'vgg16',\n",
              " 'vgg19',\n",
              " 'densenet121',\n",
              " 'densenet169',\n",
              " 'densenet201',\n",
              " 'inceptionresnetv2',\n",
              " 'inceptionv3',\n",
              " 'xception',\n",
              " 'nasnetlarge',\n",
              " 'nasnetmobile',\n",
              " 'mobilenet',\n",
              " 'mobilenetv2']"
            ]
          },
          "metadata": {},
          "execution_count": 3
        }
      ]
    },
    {
      "cell_type": "code",
      "metadata": {
        "id": "i6HlUloHlu-Z"
      },
      "source": [
        "from tensorflow.keras.layers import Input, Lambda, Dense, Flatten,Conv2D\n",
        "from tensorflow.keras.models import Model\n",
        "from tensorflow.keras.preprocessing import image\n",
        "from tensorflow.keras.preprocessing.image import ImageDataGenerator,load_img\n",
        "from tensorflow.keras.models import Sequential\n",
        "import numpy as np\n",
        "from glob import glob\n",
        "import matplotlib.pyplot as plt\n",
        "from tensorflow.keras.layers import MaxPooling2D"
      ],
      "execution_count": null,
      "outputs": []
    },
    {
      "cell_type": "code",
      "metadata": {
        "id": "pj9vyXCGlxtH"
      },
      "source": [
        "#specify paths to dataset in google drive\n",
        "import tensorflow as tf\n",
        "\n",
        "train_path = \"/content/drive/MyDrive/SSI 2021/Train Set\"\n",
        "val_path = \"/content/drive/MyDrive/SSI 2021/Validation Set\"\n",
        "test_path = \"/content/drive/MyDrive/SSI 2021/Test Set\""
      ],
      "execution_count": null,
      "outputs": []
    },
    {
      "cell_type": "code",
      "metadata": {
        "colab": {
          "base_uri": "https://localhost:8080/"
        },
        "id": "v32KiLmTmVjb",
        "outputId": "57fe15d9-43b6-46f9-fccb-d0918175e048"
      },
      "source": [
        "#download ResNet18 and set up model\n",
        "ResNet18, preprocess_input = Classifiers.get('resnet18')\n",
        "resnet18 = ResNet18(include_top = False, input_shape=(224, 224, 3), weights='imagenet')"
      ],
      "execution_count": null,
      "outputs": [
        {
          "output_type": "stream",
          "name": "stdout",
          "text": [
            "Downloading data from https://github.com/qubvel/classification_models/releases/download/0.0.1/resnet18_imagenet_1000_no_top.h5\n",
            "44924928/44920640 [==============================] - 1s 0us/step\n",
            "44933120/44920640 [==============================] - 1s 0us/step\n"
          ]
        }
      ]
    },
    {
      "cell_type": "code",
      "metadata": {
        "colab": {
          "base_uri": "https://localhost:8080/"
        },
        "id": "0NZSKOKXmZOY",
        "outputId": "5bfa5bf2-312e-4d26-c4ac-bcfc9c52e42b"
      },
      "source": [
        "resnet18.summary()"
      ],
      "execution_count": null,
      "outputs": [
        {
          "output_type": "stream",
          "name": "stdout",
          "text": [
            "Model: \"model\"\n",
            "__________________________________________________________________________________________________\n",
            " Layer (type)                   Output Shape         Param #     Connected to                     \n",
            "==================================================================================================\n",
            " data (InputLayer)              [(None, 224, 224, 3  0           []                               \n",
            "                                )]                                                                \n",
            "                                                                                                  \n",
            " bn_data (BatchNormalization)   (None, 224, 224, 3)  9           ['data[0][0]']                   \n",
            "                                                                                                  \n",
            " zero_padding2d (ZeroPadding2D)  (None, 230, 230, 3)  0          ['bn_data[0][0]']                \n",
            "                                                                                                  \n",
            " conv0 (Conv2D)                 (None, 112, 112, 64  9408        ['zero_padding2d[0][0]']         \n",
            "                                )                                                                 \n",
            "                                                                                                  \n",
            " bn0 (BatchNormalization)       (None, 112, 112, 64  256         ['conv0[0][0]']                  \n",
            "                                )                                                                 \n",
            "                                                                                                  \n",
            " relu0 (Activation)             (None, 112, 112, 64  0           ['bn0[0][0]']                    \n",
            "                                )                                                                 \n",
            "                                                                                                  \n",
            " zero_padding2d_1 (ZeroPadding2  (None, 114, 114, 64  0          ['relu0[0][0]']                  \n",
            " D)                             )                                                                 \n",
            "                                                                                                  \n",
            " pooling0 (MaxPooling2D)        (None, 56, 56, 64)   0           ['zero_padding2d_1[0][0]']       \n",
            "                                                                                                  \n",
            " stage1_unit1_bn1 (BatchNormali  (None, 56, 56, 64)  256         ['pooling0[0][0]']               \n",
            " zation)                                                                                          \n",
            "                                                                                                  \n",
            " stage1_unit1_relu1 (Activation  (None, 56, 56, 64)  0           ['stage1_unit1_bn1[0][0]']       \n",
            " )                                                                                                \n",
            "                                                                                                  \n",
            " zero_padding2d_2 (ZeroPadding2  (None, 58, 58, 64)  0           ['stage1_unit1_relu1[0][0]']     \n",
            " D)                                                                                               \n",
            "                                                                                                  \n",
            " stage1_unit1_conv1 (Conv2D)    (None, 56, 56, 64)   36864       ['zero_padding2d_2[0][0]']       \n",
            "                                                                                                  \n",
            " stage1_unit1_bn2 (BatchNormali  (None, 56, 56, 64)  256         ['stage1_unit1_conv1[0][0]']     \n",
            " zation)                                                                                          \n",
            "                                                                                                  \n",
            " stage1_unit1_relu2 (Activation  (None, 56, 56, 64)  0           ['stage1_unit1_bn2[0][0]']       \n",
            " )                                                                                                \n",
            "                                                                                                  \n",
            " zero_padding2d_3 (ZeroPadding2  (None, 58, 58, 64)  0           ['stage1_unit1_relu2[0][0]']     \n",
            " D)                                                                                               \n",
            "                                                                                                  \n",
            " stage1_unit1_conv2 (Conv2D)    (None, 56, 56, 64)   36864       ['zero_padding2d_3[0][0]']       \n",
            "                                                                                                  \n",
            " stage1_unit1_sc (Conv2D)       (None, 56, 56, 64)   4096        ['stage1_unit1_relu1[0][0]']     \n",
            "                                                                                                  \n",
            " add (Add)                      (None, 56, 56, 64)   0           ['stage1_unit1_conv2[0][0]',     \n",
            "                                                                  'stage1_unit1_sc[0][0]']        \n",
            "                                                                                                  \n",
            " stage1_unit2_bn1 (BatchNormali  (None, 56, 56, 64)  256         ['add[0][0]']                    \n",
            " zation)                                                                                          \n",
            "                                                                                                  \n",
            " stage1_unit2_relu1 (Activation  (None, 56, 56, 64)  0           ['stage1_unit2_bn1[0][0]']       \n",
            " )                                                                                                \n",
            "                                                                                                  \n",
            " zero_padding2d_4 (ZeroPadding2  (None, 58, 58, 64)  0           ['stage1_unit2_relu1[0][0]']     \n",
            " D)                                                                                               \n",
            "                                                                                                  \n",
            " stage1_unit2_conv1 (Conv2D)    (None, 56, 56, 64)   36864       ['zero_padding2d_4[0][0]']       \n",
            "                                                                                                  \n",
            " stage1_unit2_bn2 (BatchNormali  (None, 56, 56, 64)  256         ['stage1_unit2_conv1[0][0]']     \n",
            " zation)                                                                                          \n",
            "                                                                                                  \n",
            " stage1_unit2_relu2 (Activation  (None, 56, 56, 64)  0           ['stage1_unit2_bn2[0][0]']       \n",
            " )                                                                                                \n",
            "                                                                                                  \n",
            " zero_padding2d_5 (ZeroPadding2  (None, 58, 58, 64)  0           ['stage1_unit2_relu2[0][0]']     \n",
            " D)                                                                                               \n",
            "                                                                                                  \n",
            " stage1_unit2_conv2 (Conv2D)    (None, 56, 56, 64)   36864       ['zero_padding2d_5[0][0]']       \n",
            "                                                                                                  \n",
            " add_1 (Add)                    (None, 56, 56, 64)   0           ['stage1_unit2_conv2[0][0]',     \n",
            "                                                                  'add[0][0]']                    \n",
            "                                                                                                  \n",
            " stage2_unit1_bn1 (BatchNormali  (None, 56, 56, 64)  256         ['add_1[0][0]']                  \n",
            " zation)                                                                                          \n",
            "                                                                                                  \n",
            " stage2_unit1_relu1 (Activation  (None, 56, 56, 64)  0           ['stage2_unit1_bn1[0][0]']       \n",
            " )                                                                                                \n",
            "                                                                                                  \n",
            " zero_padding2d_6 (ZeroPadding2  (None, 58, 58, 64)  0           ['stage2_unit1_relu1[0][0]']     \n",
            " D)                                                                                               \n",
            "                                                                                                  \n",
            " stage2_unit1_conv1 (Conv2D)    (None, 28, 28, 128)  73728       ['zero_padding2d_6[0][0]']       \n",
            "                                                                                                  \n",
            " stage2_unit1_bn2 (BatchNormali  (None, 28, 28, 128)  512        ['stage2_unit1_conv1[0][0]']     \n",
            " zation)                                                                                          \n",
            "                                                                                                  \n",
            " stage2_unit1_relu2 (Activation  (None, 28, 28, 128)  0          ['stage2_unit1_bn2[0][0]']       \n",
            " )                                                                                                \n",
            "                                                                                                  \n",
            " zero_padding2d_7 (ZeroPadding2  (None, 30, 30, 128)  0          ['stage2_unit1_relu2[0][0]']     \n",
            " D)                                                                                               \n",
            "                                                                                                  \n",
            " stage2_unit1_conv2 (Conv2D)    (None, 28, 28, 128)  147456      ['zero_padding2d_7[0][0]']       \n",
            "                                                                                                  \n",
            " stage2_unit1_sc (Conv2D)       (None, 28, 28, 128)  8192        ['stage2_unit1_relu1[0][0]']     \n",
            "                                                                                                  \n",
            " add_2 (Add)                    (None, 28, 28, 128)  0           ['stage2_unit1_conv2[0][0]',     \n",
            "                                                                  'stage2_unit1_sc[0][0]']        \n",
            "                                                                                                  \n",
            " stage2_unit2_bn1 (BatchNormali  (None, 28, 28, 128)  512        ['add_2[0][0]']                  \n",
            " zation)                                                                                          \n",
            "                                                                                                  \n",
            " stage2_unit2_relu1 (Activation  (None, 28, 28, 128)  0          ['stage2_unit2_bn1[0][0]']       \n",
            " )                                                                                                \n",
            "                                                                                                  \n",
            " zero_padding2d_8 (ZeroPadding2  (None, 30, 30, 128)  0          ['stage2_unit2_relu1[0][0]']     \n",
            " D)                                                                                               \n",
            "                                                                                                  \n",
            " stage2_unit2_conv1 (Conv2D)    (None, 28, 28, 128)  147456      ['zero_padding2d_8[0][0]']       \n",
            "                                                                                                  \n",
            " stage2_unit2_bn2 (BatchNormali  (None, 28, 28, 128)  512        ['stage2_unit2_conv1[0][0]']     \n",
            " zation)                                                                                          \n",
            "                                                                                                  \n",
            " stage2_unit2_relu2 (Activation  (None, 28, 28, 128)  0          ['stage2_unit2_bn2[0][0]']       \n",
            " )                                                                                                \n",
            "                                                                                                  \n",
            " zero_padding2d_9 (ZeroPadding2  (None, 30, 30, 128)  0          ['stage2_unit2_relu2[0][0]']     \n",
            " D)                                                                                               \n",
            "                                                                                                  \n",
            " stage2_unit2_conv2 (Conv2D)    (None, 28, 28, 128)  147456      ['zero_padding2d_9[0][0]']       \n",
            "                                                                                                  \n",
            " add_3 (Add)                    (None, 28, 28, 128)  0           ['stage2_unit2_conv2[0][0]',     \n",
            "                                                                  'add_2[0][0]']                  \n",
            "                                                                                                  \n",
            " stage3_unit1_bn1 (BatchNormali  (None, 28, 28, 128)  512        ['add_3[0][0]']                  \n",
            " zation)                                                                                          \n",
            "                                                                                                  \n",
            " stage3_unit1_relu1 (Activation  (None, 28, 28, 128)  0          ['stage3_unit1_bn1[0][0]']       \n",
            " )                                                                                                \n",
            "                                                                                                  \n",
            " zero_padding2d_10 (ZeroPadding  (None, 30, 30, 128)  0          ['stage3_unit1_relu1[0][0]']     \n",
            " 2D)                                                                                              \n",
            "                                                                                                  \n",
            " stage3_unit1_conv1 (Conv2D)    (None, 14, 14, 256)  294912      ['zero_padding2d_10[0][0]']      \n",
            "                                                                                                  \n",
            " stage3_unit1_bn2 (BatchNormali  (None, 14, 14, 256)  1024       ['stage3_unit1_conv1[0][0]']     \n",
            " zation)                                                                                          \n",
            "                                                                                                  \n",
            " stage3_unit1_relu2 (Activation  (None, 14, 14, 256)  0          ['stage3_unit1_bn2[0][0]']       \n",
            " )                                                                                                \n",
            "                                                                                                  \n",
            " zero_padding2d_11 (ZeroPadding  (None, 16, 16, 256)  0          ['stage3_unit1_relu2[0][0]']     \n",
            " 2D)                                                                                              \n",
            "                                                                                                  \n",
            " stage3_unit1_conv2 (Conv2D)    (None, 14, 14, 256)  589824      ['zero_padding2d_11[0][0]']      \n",
            "                                                                                                  \n",
            " stage3_unit1_sc (Conv2D)       (None, 14, 14, 256)  32768       ['stage3_unit1_relu1[0][0]']     \n",
            "                                                                                                  \n",
            " add_4 (Add)                    (None, 14, 14, 256)  0           ['stage3_unit1_conv2[0][0]',     \n",
            "                                                                  'stage3_unit1_sc[0][0]']        \n",
            "                                                                                                  \n",
            " stage3_unit2_bn1 (BatchNormali  (None, 14, 14, 256)  1024       ['add_4[0][0]']                  \n",
            " zation)                                                                                          \n",
            "                                                                                                  \n",
            " stage3_unit2_relu1 (Activation  (None, 14, 14, 256)  0          ['stage3_unit2_bn1[0][0]']       \n",
            " )                                                                                                \n",
            "                                                                                                  \n",
            " zero_padding2d_12 (ZeroPadding  (None, 16, 16, 256)  0          ['stage3_unit2_relu1[0][0]']     \n",
            " 2D)                                                                                              \n",
            "                                                                                                  \n",
            " stage3_unit2_conv1 (Conv2D)    (None, 14, 14, 256)  589824      ['zero_padding2d_12[0][0]']      \n",
            "                                                                                                  \n",
            " stage3_unit2_bn2 (BatchNormali  (None, 14, 14, 256)  1024       ['stage3_unit2_conv1[0][0]']     \n",
            " zation)                                                                                          \n",
            "                                                                                                  \n",
            " stage3_unit2_relu2 (Activation  (None, 14, 14, 256)  0          ['stage3_unit2_bn2[0][0]']       \n",
            " )                                                                                                \n",
            "                                                                                                  \n",
            " zero_padding2d_13 (ZeroPadding  (None, 16, 16, 256)  0          ['stage3_unit2_relu2[0][0]']     \n",
            " 2D)                                                                                              \n",
            "                                                                                                  \n",
            " stage3_unit2_conv2 (Conv2D)    (None, 14, 14, 256)  589824      ['zero_padding2d_13[0][0]']      \n",
            "                                                                                                  \n",
            " add_5 (Add)                    (None, 14, 14, 256)  0           ['stage3_unit2_conv2[0][0]',     \n",
            "                                                                  'add_4[0][0]']                  \n",
            "                                                                                                  \n",
            " stage4_unit1_bn1 (BatchNormali  (None, 14, 14, 256)  1024       ['add_5[0][0]']                  \n",
            " zation)                                                                                          \n",
            "                                                                                                  \n",
            " stage4_unit1_relu1 (Activation  (None, 14, 14, 256)  0          ['stage4_unit1_bn1[0][0]']       \n",
            " )                                                                                                \n",
            "                                                                                                  \n",
            " zero_padding2d_14 (ZeroPadding  (None, 16, 16, 256)  0          ['stage4_unit1_relu1[0][0]']     \n",
            " 2D)                                                                                              \n",
            "                                                                                                  \n",
            " stage4_unit1_conv1 (Conv2D)    (None, 7, 7, 512)    1179648     ['zero_padding2d_14[0][0]']      \n",
            "                                                                                                  \n",
            " stage4_unit1_bn2 (BatchNormali  (None, 7, 7, 512)   2048        ['stage4_unit1_conv1[0][0]']     \n",
            " zation)                                                                                          \n",
            "                                                                                                  \n",
            " stage4_unit1_relu2 (Activation  (None, 7, 7, 512)   0           ['stage4_unit1_bn2[0][0]']       \n",
            " )                                                                                                \n",
            "                                                                                                  \n",
            " zero_padding2d_15 (ZeroPadding  (None, 9, 9, 512)   0           ['stage4_unit1_relu2[0][0]']     \n",
            " 2D)                                                                                              \n",
            "                                                                                                  \n",
            " stage4_unit1_conv2 (Conv2D)    (None, 7, 7, 512)    2359296     ['zero_padding2d_15[0][0]']      \n",
            "                                                                                                  \n",
            " stage4_unit1_sc (Conv2D)       (None, 7, 7, 512)    131072      ['stage4_unit1_relu1[0][0]']     \n",
            "                                                                                                  \n",
            " add_6 (Add)                    (None, 7, 7, 512)    0           ['stage4_unit1_conv2[0][0]',     \n",
            "                                                                  'stage4_unit1_sc[0][0]']        \n",
            "                                                                                                  \n",
            " stage4_unit2_bn1 (BatchNormali  (None, 7, 7, 512)   2048        ['add_6[0][0]']                  \n",
            " zation)                                                                                          \n",
            "                                                                                                  \n",
            " stage4_unit2_relu1 (Activation  (None, 7, 7, 512)   0           ['stage4_unit2_bn1[0][0]']       \n",
            " )                                                                                                \n",
            "                                                                                                  \n",
            " zero_padding2d_16 (ZeroPadding  (None, 9, 9, 512)   0           ['stage4_unit2_relu1[0][0]']     \n",
            " 2D)                                                                                              \n",
            "                                                                                                  \n",
            " stage4_unit2_conv1 (Conv2D)    (None, 7, 7, 512)    2359296     ['zero_padding2d_16[0][0]']      \n",
            "                                                                                                  \n",
            " stage4_unit2_bn2 (BatchNormali  (None, 7, 7, 512)   2048        ['stage4_unit2_conv1[0][0]']     \n",
            " zation)                                                                                          \n",
            "                                                                                                  \n",
            " stage4_unit2_relu2 (Activation  (None, 7, 7, 512)   0           ['stage4_unit2_bn2[0][0]']       \n",
            " )                                                                                                \n",
            "                                                                                                  \n",
            " zero_padding2d_17 (ZeroPadding  (None, 9, 9, 512)   0           ['stage4_unit2_relu2[0][0]']     \n",
            " 2D)                                                                                              \n",
            "                                                                                                  \n",
            " stage4_unit2_conv2 (Conv2D)    (None, 7, 7, 512)    2359296     ['zero_padding2d_17[0][0]']      \n",
            "                                                                                                  \n",
            " add_7 (Add)                    (None, 7, 7, 512)    0           ['stage4_unit2_conv2[0][0]',     \n",
            "                                                                  'add_6[0][0]']                  \n",
            "                                                                                                  \n",
            " bn1 (BatchNormalization)       (None, 7, 7, 512)    2048        ['add_7[0][0]']                  \n",
            "                                                                                                  \n",
            " relu1 (Activation)             (None, 7, 7, 512)    0           ['bn1[0][0]']                    \n",
            "                                                                                                  \n",
            "==================================================================================================\n",
            "Total params: 11,186,889\n",
            "Trainable params: 11,178,947\n",
            "Non-trainable params: 7,942\n",
            "__________________________________________________________________________________________________\n"
          ]
        }
      ]
    },
    {
      "cell_type": "code",
      "metadata": {
        "id": "tv1fvFSambS4"
      },
      "source": [
        "for layer in resnet18.layers:\n",
        "  layer.trainable = False"
      ],
      "execution_count": null,
      "outputs": []
    },
    {
      "cell_type": "code",
      "metadata": {
        "colab": {
          "base_uri": "https://localhost:8080/"
        },
        "id": "YG6n9TufmdPS",
        "outputId": "87b5f7de-2278-4212-d43c-14efc7d47d66"
      },
      "source": [
        "from glob import glob\n",
        "#training set\n",
        "folders = glob(\"/content/drive/MyDrive/SSI 2021/Train Set/*\")\n",
        "len(folders)"
      ],
      "execution_count": null,
      "outputs": [
        {
          "output_type": "execute_result",
          "data": {
            "text/plain": [
              "2"
            ]
          },
          "metadata": {},
          "execution_count": 9
        }
      ]
    },
    {
      "cell_type": "code",
      "metadata": {
        "id": "VHz2HH8hmfKB"
      },
      "source": [
        "x = Flatten()(resnet18.output)"
      ],
      "execution_count": null,
      "outputs": []
    },
    {
      "cell_type": "code",
      "metadata": {
        "id": "qcsuHzTsmh9H"
      },
      "source": [
        "prediction = Dense(len(folders), activation = \"sigmoid\")(x)\n",
        "\n",
        "#create a model object\n",
        "model = Model(inputs = resnet18.input, outputs = prediction)"
      ],
      "execution_count": null,
      "outputs": []
    },
    {
      "cell_type": "code",
      "metadata": {
        "colab": {
          "base_uri": "https://localhost:8080/"
        },
        "id": "UkQaqSK2mjzB",
        "outputId": "cc78e5bb-5e3e-4d80-c894-2740765f4c0c"
      },
      "source": [
        "model.summary()"
      ],
      "execution_count": null,
      "outputs": [
        {
          "output_type": "stream",
          "name": "stdout",
          "text": [
            "Model: \"model_1\"\n",
            "__________________________________________________________________________________________________\n",
            " Layer (type)                   Output Shape         Param #     Connected to                     \n",
            "==================================================================================================\n",
            " data (InputLayer)              [(None, 224, 224, 3  0           []                               \n",
            "                                )]                                                                \n",
            "                                                                                                  \n",
            " bn_data (BatchNormalization)   (None, 224, 224, 3)  9           ['data[0][0]']                   \n",
            "                                                                                                  \n",
            " zero_padding2d (ZeroPadding2D)  (None, 230, 230, 3)  0          ['bn_data[0][0]']                \n",
            "                                                                                                  \n",
            " conv0 (Conv2D)                 (None, 112, 112, 64  9408        ['zero_padding2d[0][0]']         \n",
            "                                )                                                                 \n",
            "                                                                                                  \n",
            " bn0 (BatchNormalization)       (None, 112, 112, 64  256         ['conv0[0][0]']                  \n",
            "                                )                                                                 \n",
            "                                                                                                  \n",
            " relu0 (Activation)             (None, 112, 112, 64  0           ['bn0[0][0]']                    \n",
            "                                )                                                                 \n",
            "                                                                                                  \n",
            " zero_padding2d_1 (ZeroPadding2  (None, 114, 114, 64  0          ['relu0[0][0]']                  \n",
            " D)                             )                                                                 \n",
            "                                                                                                  \n",
            " pooling0 (MaxPooling2D)        (None, 56, 56, 64)   0           ['zero_padding2d_1[0][0]']       \n",
            "                                                                                                  \n",
            " stage1_unit1_bn1 (BatchNormali  (None, 56, 56, 64)  256         ['pooling0[0][0]']               \n",
            " zation)                                                                                          \n",
            "                                                                                                  \n",
            " stage1_unit1_relu1 (Activation  (None, 56, 56, 64)  0           ['stage1_unit1_bn1[0][0]']       \n",
            " )                                                                                                \n",
            "                                                                                                  \n",
            " zero_padding2d_2 (ZeroPadding2  (None, 58, 58, 64)  0           ['stage1_unit1_relu1[0][0]']     \n",
            " D)                                                                                               \n",
            "                                                                                                  \n",
            " stage1_unit1_conv1 (Conv2D)    (None, 56, 56, 64)   36864       ['zero_padding2d_2[0][0]']       \n",
            "                                                                                                  \n",
            " stage1_unit1_bn2 (BatchNormali  (None, 56, 56, 64)  256         ['stage1_unit1_conv1[0][0]']     \n",
            " zation)                                                                                          \n",
            "                                                                                                  \n",
            " stage1_unit1_relu2 (Activation  (None, 56, 56, 64)  0           ['stage1_unit1_bn2[0][0]']       \n",
            " )                                                                                                \n",
            "                                                                                                  \n",
            " zero_padding2d_3 (ZeroPadding2  (None, 58, 58, 64)  0           ['stage1_unit1_relu2[0][0]']     \n",
            " D)                                                                                               \n",
            "                                                                                                  \n",
            " stage1_unit1_conv2 (Conv2D)    (None, 56, 56, 64)   36864       ['zero_padding2d_3[0][0]']       \n",
            "                                                                                                  \n",
            " stage1_unit1_sc (Conv2D)       (None, 56, 56, 64)   4096        ['stage1_unit1_relu1[0][0]']     \n",
            "                                                                                                  \n",
            " add (Add)                      (None, 56, 56, 64)   0           ['stage1_unit1_conv2[0][0]',     \n",
            "                                                                  'stage1_unit1_sc[0][0]']        \n",
            "                                                                                                  \n",
            " stage1_unit2_bn1 (BatchNormali  (None, 56, 56, 64)  256         ['add[0][0]']                    \n",
            " zation)                                                                                          \n",
            "                                                                                                  \n",
            " stage1_unit2_relu1 (Activation  (None, 56, 56, 64)  0           ['stage1_unit2_bn1[0][0]']       \n",
            " )                                                                                                \n",
            "                                                                                                  \n",
            " zero_padding2d_4 (ZeroPadding2  (None, 58, 58, 64)  0           ['stage1_unit2_relu1[0][0]']     \n",
            " D)                                                                                               \n",
            "                                                                                                  \n",
            " stage1_unit2_conv1 (Conv2D)    (None, 56, 56, 64)   36864       ['zero_padding2d_4[0][0]']       \n",
            "                                                                                                  \n",
            " stage1_unit2_bn2 (BatchNormali  (None, 56, 56, 64)  256         ['stage1_unit2_conv1[0][0]']     \n",
            " zation)                                                                                          \n",
            "                                                                                                  \n",
            " stage1_unit2_relu2 (Activation  (None, 56, 56, 64)  0           ['stage1_unit2_bn2[0][0]']       \n",
            " )                                                                                                \n",
            "                                                                                                  \n",
            " zero_padding2d_5 (ZeroPadding2  (None, 58, 58, 64)  0           ['stage1_unit2_relu2[0][0]']     \n",
            " D)                                                                                               \n",
            "                                                                                                  \n",
            " stage1_unit2_conv2 (Conv2D)    (None, 56, 56, 64)   36864       ['zero_padding2d_5[0][0]']       \n",
            "                                                                                                  \n",
            " add_1 (Add)                    (None, 56, 56, 64)   0           ['stage1_unit2_conv2[0][0]',     \n",
            "                                                                  'add[0][0]']                    \n",
            "                                                                                                  \n",
            " stage2_unit1_bn1 (BatchNormali  (None, 56, 56, 64)  256         ['add_1[0][0]']                  \n",
            " zation)                                                                                          \n",
            "                                                                                                  \n",
            " stage2_unit1_relu1 (Activation  (None, 56, 56, 64)  0           ['stage2_unit1_bn1[0][0]']       \n",
            " )                                                                                                \n",
            "                                                                                                  \n",
            " zero_padding2d_6 (ZeroPadding2  (None, 58, 58, 64)  0           ['stage2_unit1_relu1[0][0]']     \n",
            " D)                                                                                               \n",
            "                                                                                                  \n",
            " stage2_unit1_conv1 (Conv2D)    (None, 28, 28, 128)  73728       ['zero_padding2d_6[0][0]']       \n",
            "                                                                                                  \n",
            " stage2_unit1_bn2 (BatchNormali  (None, 28, 28, 128)  512        ['stage2_unit1_conv1[0][0]']     \n",
            " zation)                                                                                          \n",
            "                                                                                                  \n",
            " stage2_unit1_relu2 (Activation  (None, 28, 28, 128)  0          ['stage2_unit1_bn2[0][0]']       \n",
            " )                                                                                                \n",
            "                                                                                                  \n",
            " zero_padding2d_7 (ZeroPadding2  (None, 30, 30, 128)  0          ['stage2_unit1_relu2[0][0]']     \n",
            " D)                                                                                               \n",
            "                                                                                                  \n",
            " stage2_unit1_conv2 (Conv2D)    (None, 28, 28, 128)  147456      ['zero_padding2d_7[0][0]']       \n",
            "                                                                                                  \n",
            " stage2_unit1_sc (Conv2D)       (None, 28, 28, 128)  8192        ['stage2_unit1_relu1[0][0]']     \n",
            "                                                                                                  \n",
            " add_2 (Add)                    (None, 28, 28, 128)  0           ['stage2_unit1_conv2[0][0]',     \n",
            "                                                                  'stage2_unit1_sc[0][0]']        \n",
            "                                                                                                  \n",
            " stage2_unit2_bn1 (BatchNormali  (None, 28, 28, 128)  512        ['add_2[0][0]']                  \n",
            " zation)                                                                                          \n",
            "                                                                                                  \n",
            " stage2_unit2_relu1 (Activation  (None, 28, 28, 128)  0          ['stage2_unit2_bn1[0][0]']       \n",
            " )                                                                                                \n",
            "                                                                                                  \n",
            " zero_padding2d_8 (ZeroPadding2  (None, 30, 30, 128)  0          ['stage2_unit2_relu1[0][0]']     \n",
            " D)                                                                                               \n",
            "                                                                                                  \n",
            " stage2_unit2_conv1 (Conv2D)    (None, 28, 28, 128)  147456      ['zero_padding2d_8[0][0]']       \n",
            "                                                                                                  \n",
            " stage2_unit2_bn2 (BatchNormali  (None, 28, 28, 128)  512        ['stage2_unit2_conv1[0][0]']     \n",
            " zation)                                                                                          \n",
            "                                                                                                  \n",
            " stage2_unit2_relu2 (Activation  (None, 28, 28, 128)  0          ['stage2_unit2_bn2[0][0]']       \n",
            " )                                                                                                \n",
            "                                                                                                  \n",
            " zero_padding2d_9 (ZeroPadding2  (None, 30, 30, 128)  0          ['stage2_unit2_relu2[0][0]']     \n",
            " D)                                                                                               \n",
            "                                                                                                  \n",
            " stage2_unit2_conv2 (Conv2D)    (None, 28, 28, 128)  147456      ['zero_padding2d_9[0][0]']       \n",
            "                                                                                                  \n",
            " add_3 (Add)                    (None, 28, 28, 128)  0           ['stage2_unit2_conv2[0][0]',     \n",
            "                                                                  'add_2[0][0]']                  \n",
            "                                                                                                  \n",
            " stage3_unit1_bn1 (BatchNormali  (None, 28, 28, 128)  512        ['add_3[0][0]']                  \n",
            " zation)                                                                                          \n",
            "                                                                                                  \n",
            " stage3_unit1_relu1 (Activation  (None, 28, 28, 128)  0          ['stage3_unit1_bn1[0][0]']       \n",
            " )                                                                                                \n",
            "                                                                                                  \n",
            " zero_padding2d_10 (ZeroPadding  (None, 30, 30, 128)  0          ['stage3_unit1_relu1[0][0]']     \n",
            " 2D)                                                                                              \n",
            "                                                                                                  \n",
            " stage3_unit1_conv1 (Conv2D)    (None, 14, 14, 256)  294912      ['zero_padding2d_10[0][0]']      \n",
            "                                                                                                  \n",
            " stage3_unit1_bn2 (BatchNormali  (None, 14, 14, 256)  1024       ['stage3_unit1_conv1[0][0]']     \n",
            " zation)                                                                                          \n",
            "                                                                                                  \n",
            " stage3_unit1_relu2 (Activation  (None, 14, 14, 256)  0          ['stage3_unit1_bn2[0][0]']       \n",
            " )                                                                                                \n",
            "                                                                                                  \n",
            " zero_padding2d_11 (ZeroPadding  (None, 16, 16, 256)  0          ['stage3_unit1_relu2[0][0]']     \n",
            " 2D)                                                                                              \n",
            "                                                                                                  \n",
            " stage3_unit1_conv2 (Conv2D)    (None, 14, 14, 256)  589824      ['zero_padding2d_11[0][0]']      \n",
            "                                                                                                  \n",
            " stage3_unit1_sc (Conv2D)       (None, 14, 14, 256)  32768       ['stage3_unit1_relu1[0][0]']     \n",
            "                                                                                                  \n",
            " add_4 (Add)                    (None, 14, 14, 256)  0           ['stage3_unit1_conv2[0][0]',     \n",
            "                                                                  'stage3_unit1_sc[0][0]']        \n",
            "                                                                                                  \n",
            " stage3_unit2_bn1 (BatchNormali  (None, 14, 14, 256)  1024       ['add_4[0][0]']                  \n",
            " zation)                                                                                          \n",
            "                                                                                                  \n",
            " stage3_unit2_relu1 (Activation  (None, 14, 14, 256)  0          ['stage3_unit2_bn1[0][0]']       \n",
            " )                                                                                                \n",
            "                                                                                                  \n",
            " zero_padding2d_12 (ZeroPadding  (None, 16, 16, 256)  0          ['stage3_unit2_relu1[0][0]']     \n",
            " 2D)                                                                                              \n",
            "                                                                                                  \n",
            " stage3_unit2_conv1 (Conv2D)    (None, 14, 14, 256)  589824      ['zero_padding2d_12[0][0]']      \n",
            "                                                                                                  \n",
            " stage3_unit2_bn2 (BatchNormali  (None, 14, 14, 256)  1024       ['stage3_unit2_conv1[0][0]']     \n",
            " zation)                                                                                          \n",
            "                                                                                                  \n",
            " stage3_unit2_relu2 (Activation  (None, 14, 14, 256)  0          ['stage3_unit2_bn2[0][0]']       \n",
            " )                                                                                                \n",
            "                                                                                                  \n",
            " zero_padding2d_13 (ZeroPadding  (None, 16, 16, 256)  0          ['stage3_unit2_relu2[0][0]']     \n",
            " 2D)                                                                                              \n",
            "                                                                                                  \n",
            " stage3_unit2_conv2 (Conv2D)    (None, 14, 14, 256)  589824      ['zero_padding2d_13[0][0]']      \n",
            "                                                                                                  \n",
            " add_5 (Add)                    (None, 14, 14, 256)  0           ['stage3_unit2_conv2[0][0]',     \n",
            "                                                                  'add_4[0][0]']                  \n",
            "                                                                                                  \n",
            " stage4_unit1_bn1 (BatchNormali  (None, 14, 14, 256)  1024       ['add_5[0][0]']                  \n",
            " zation)                                                                                          \n",
            "                                                                                                  \n",
            " stage4_unit1_relu1 (Activation  (None, 14, 14, 256)  0          ['stage4_unit1_bn1[0][0]']       \n",
            " )                                                                                                \n",
            "                                                                                                  \n",
            " zero_padding2d_14 (ZeroPadding  (None, 16, 16, 256)  0          ['stage4_unit1_relu1[0][0]']     \n",
            " 2D)                                                                                              \n",
            "                                                                                                  \n",
            " stage4_unit1_conv1 (Conv2D)    (None, 7, 7, 512)    1179648     ['zero_padding2d_14[0][0]']      \n",
            "                                                                                                  \n",
            " stage4_unit1_bn2 (BatchNormali  (None, 7, 7, 512)   2048        ['stage4_unit1_conv1[0][0]']     \n",
            " zation)                                                                                          \n",
            "                                                                                                  \n",
            " stage4_unit1_relu2 (Activation  (None, 7, 7, 512)   0           ['stage4_unit1_bn2[0][0]']       \n",
            " )                                                                                                \n",
            "                                                                                                  \n",
            " zero_padding2d_15 (ZeroPadding  (None, 9, 9, 512)   0           ['stage4_unit1_relu2[0][0]']     \n",
            " 2D)                                                                                              \n",
            "                                                                                                  \n",
            " stage4_unit1_conv2 (Conv2D)    (None, 7, 7, 512)    2359296     ['zero_padding2d_15[0][0]']      \n",
            "                                                                                                  \n",
            " stage4_unit1_sc (Conv2D)       (None, 7, 7, 512)    131072      ['stage4_unit1_relu1[0][0]']     \n",
            "                                                                                                  \n",
            " add_6 (Add)                    (None, 7, 7, 512)    0           ['stage4_unit1_conv2[0][0]',     \n",
            "                                                                  'stage4_unit1_sc[0][0]']        \n",
            "                                                                                                  \n",
            " stage4_unit2_bn1 (BatchNormali  (None, 7, 7, 512)   2048        ['add_6[0][0]']                  \n",
            " zation)                                                                                          \n",
            "                                                                                                  \n",
            " stage4_unit2_relu1 (Activation  (None, 7, 7, 512)   0           ['stage4_unit2_bn1[0][0]']       \n",
            " )                                                                                                \n",
            "                                                                                                  \n",
            " zero_padding2d_16 (ZeroPadding  (None, 9, 9, 512)   0           ['stage4_unit2_relu1[0][0]']     \n",
            " 2D)                                                                                              \n",
            "                                                                                                  \n",
            " stage4_unit2_conv1 (Conv2D)    (None, 7, 7, 512)    2359296     ['zero_padding2d_16[0][0]']      \n",
            "                                                                                                  \n",
            " stage4_unit2_bn2 (BatchNormali  (None, 7, 7, 512)   2048        ['stage4_unit2_conv1[0][0]']     \n",
            " zation)                                                                                          \n",
            "                                                                                                  \n",
            " stage4_unit2_relu2 (Activation  (None, 7, 7, 512)   0           ['stage4_unit2_bn2[0][0]']       \n",
            " )                                                                                                \n",
            "                                                                                                  \n",
            " zero_padding2d_17 (ZeroPadding  (None, 9, 9, 512)   0           ['stage4_unit2_relu2[0][0]']     \n",
            " 2D)                                                                                              \n",
            "                                                                                                  \n",
            " stage4_unit2_conv2 (Conv2D)    (None, 7, 7, 512)    2359296     ['zero_padding2d_17[0][0]']      \n",
            "                                                                                                  \n",
            " add_7 (Add)                    (None, 7, 7, 512)    0           ['stage4_unit2_conv2[0][0]',     \n",
            "                                                                  'add_6[0][0]']                  \n",
            "                                                                                                  \n",
            " bn1 (BatchNormalization)       (None, 7, 7, 512)    2048        ['add_7[0][0]']                  \n",
            "                                                                                                  \n",
            " relu1 (Activation)             (None, 7, 7, 512)    0           ['bn1[0][0]']                    \n",
            "                                                                                                  \n",
            " flatten (Flatten)              (None, 25088)        0           ['relu1[0][0]']                  \n",
            "                                                                                                  \n",
            " dense (Dense)                  (None, 2)            50178       ['flatten[0][0]']                \n",
            "                                                                                                  \n",
            "==================================================================================================\n",
            "Total params: 11,237,067\n",
            "Trainable params: 50,178\n",
            "Non-trainable params: 11,186,889\n",
            "__________________________________________________________________________________________________\n"
          ]
        }
      ]
    },
    {
      "cell_type": "code",
      "metadata": {
        "id": "pSA32ZILmnoZ"
      },
      "source": [
        "#binary crossentropy because the model is classifying the image as having cancer or not\n",
        "#optimizer as adam because it is widely used\n",
        "#metrics to use in calculation (precision and recall used to calculate f1 score)\n",
        "model.compile(\n",
        "    loss = \"binary_crossentropy\",\n",
        "    optimizer = \"adam\",\n",
        "    metrics = [\n",
        "               \"accuracy\",\n",
        "                tf.keras.metrics.BinaryAccuracy(),\n",
        "                tf.keras.metrics.AUC(from_logits=True),\n",
        "                tf.keras.metrics.Precision(),\n",
        "                tf.keras.metrics.Recall(),\n",
        "                tf.keras.metrics.TruePositives(),\n",
        "                tf.keras.metrics.TrueNegatives(),\n",
        "                tf.keras.metrics.FalsePositives(),\n",
        "                tf.keras.metrics.FalseNegatives()\n",
        "               ]\n",
        ")"
      ],
      "execution_count": null,
      "outputs": []
    },
    {
      "cell_type": "code",
      "metadata": {
        "id": "rNv5JfOgmsW8"
      },
      "source": [
        "#use image data generator to import the images from the dataset\n",
        "from tensorflow.keras.preprocessing.image import ImageDataGenerator\n",
        "\n",
        "#image augmentation -- come back to later\n",
        "#train_datagen = ImageDataGenerator(rescale = 1./255,\n",
        "#                                   shear_range = 0.2,\n",
        "#                                   zoom_range = 0.2,\n",
        "#                                   horizontal_flip = True)\n",
        "\n",
        "#rescale rgb values from 0-255 to 0-1\n",
        "train_datagen = ImageDataGenerator(rescale = 1./255)\n",
        "test_datagen = ImageDataGenerator(rescale = 1./255)"
      ],
      "execution_count": null,
      "outputs": []
    },
    {
      "cell_type": "code",
      "metadata": {
        "colab": {
          "base_uri": "https://localhost:8080/"
        },
        "id": "nBCujWhGmuEW",
        "outputId": "6e4a8ec0-69a7-4e99-aae1-056cb3a78a6e"
      },
      "source": [
        "#same target size as initialized for images\n",
        "training_set = train_datagen.flow_from_directory(\"/content/drive/MyDrive/SSI 2021/Train Set\",\n",
        "                                                 target_size = (224, 224),\n",
        "                                                 batch_size = 32,\n",
        "                                                 class_mode = \"categorical\")"
      ],
      "execution_count": null,
      "outputs": [
        {
          "output_type": "stream",
          "name": "stdout",
          "text": [
            "Found 21607 images belonging to 2 classes.\n"
          ]
        }
      ]
    },
    {
      "cell_type": "code",
      "metadata": {
        "colab": {
          "base_uri": "https://localhost:8080/"
        },
        "id": "_eGX7DY8myPg",
        "outputId": "d1ddb52a-196f-4496-dfde-88daf96edea9"
      },
      "source": [
        "validation_set = train_datagen.flow_from_directory(\"/content/drive/MyDrive/SSI 2021/Validation Set\",\n",
        "                                                 target_size = (224, 224),\n",
        "                                                 batch_size = 32,\n",
        "                                                 class_mode = \"categorical\")"
      ],
      "execution_count": null,
      "outputs": [
        {
          "output_type": "stream",
          "name": "stdout",
          "text": [
            "Found 977 images belonging to 2 classes.\n"
          ]
        }
      ]
    },
    {
      "cell_type": "code",
      "metadata": {
        "colab": {
          "base_uri": "https://localhost:8080/"
        },
        "id": "GROx5La8myuq",
        "outputId": "614b70dd-e5a4-4416-ea96-a04e27c954d9"
      },
      "source": [
        "test_set = test_datagen.flow_from_directory(\"/content/drive/MyDrive/SSI 2021/Test Set\",\n",
        "                                            target_size = (224, 224),\n",
        "                                            batch_size = 32,\n",
        "                                            class_mode = \"categorical\")"
      ],
      "execution_count": null,
      "outputs": [
        {
          "output_type": "stream",
          "name": "stdout",
          "text": [
            "Found 957 images belonging to 2 classes.\n"
          ]
        }
      ]
    },
    {
      "cell_type": "code",
      "metadata": {
        "colab": {
          "base_uri": "https://localhost:8080/"
        },
        "id": "p_LS_crQm2TM",
        "outputId": "35e9b920-f1bd-43d8-f76a-0d3107f2d350"
      },
      "source": [
        "from keras.callbacks import EarlyStopping\n",
        "\n",
        "#fit the model\n",
        "#early stopping for epochs\n",
        "\n",
        "#https://keras.io/api/callbacks/early_stopping/\n",
        "#https://machinelearningmastery.com/how-to-stop-training-deep-neural-networks-at-the-right-time-using-early-stopping/ \n",
        "#use early stopping to prevent overfitting\n",
        "early_stopping = tf.keras.callbacks.EarlyStopping(monitor='val_loss', mode='min', verbose=1, patience = 5)\n",
        "\n",
        "history = model.fit(\n",
        "    training_set,\n",
        "    validation_data = validation_set,\n",
        "    epochs = 50,\n",
        "    #steps_per_epoch = len(training_set),\n",
        "    #validation_steps = len(validation_set),\n",
        "    callbacks = [early_stopping]\n",
        ")\n",
        "\n",
        "#print number of epochs \n",
        "len(history.history['loss'])"
      ],
      "execution_count": null,
      "outputs": [
        {
          "output_type": "stream",
          "name": "stdout",
          "text": [
            "Epoch 1/50\n",
            "676/676 [==============================] - 2326s 3s/step - loss: 0.6513 - accuracy: 0.6291 - binary_accuracy: 0.6283 - auc: 0.6782 - precision: 0.6290 - recall: 0.6257 - true_positives: 13519.0000 - true_negatives: 13633.0000 - false_positives: 7974.0000 - false_negatives: 8088.0000 - val_loss: 0.8095 - val_accuracy: 0.5824 - val_binary_accuracy: 0.5819 - val_auc: 0.5608 - val_precision: 0.5820 - val_recall: 0.5814 - val_true_positives: 568.0000 - val_true_negatives: 569.0000 - val_false_positives: 408.0000 - val_false_negatives: 409.0000\n",
            "Epoch 2/50\n",
            "676/676 [==============================] - 70s 104ms/step - loss: 0.6217 - accuracy: 0.6677 - binary_accuracy: 0.6676 - auc: 0.7272 - precision: 0.6677 - recall: 0.6674 - true_positives: 14420.0000 - true_negatives: 14430.0000 - false_positives: 7177.0000 - false_negatives: 7187.0000 - val_loss: 0.7989 - val_accuracy: 0.5107 - val_binary_accuracy: 0.5102 - val_auc: 0.5539 - val_precision: 0.5103 - val_recall: 0.5087 - val_true_positives: 497.0000 - val_true_negatives: 500.0000 - val_false_positives: 477.0000 - val_false_negatives: 480.0000\n",
            "Epoch 3/50\n",
            "676/676 [==============================] - 70s 103ms/step - loss: 0.6163 - accuracy: 0.6776 - binary_accuracy: 0.6777 - auc: 0.7385 - precision: 0.6779 - recall: 0.6773 - true_positives: 14634.0000 - true_negatives: 14653.0000 - false_positives: 6954.0000 - false_negatives: 6973.0000 - val_loss: 0.7733 - val_accuracy: 0.5548 - val_binary_accuracy: 0.5553 - val_auc: 0.5885 - val_precision: 0.5553 - val_recall: 0.5548 - val_true_positives: 542.0000 - val_true_negatives: 543.0000 - val_false_positives: 434.0000 - val_false_negatives: 435.0000\n",
            "Epoch 4/50\n",
            "676/676 [==============================] - 69s 103ms/step - loss: 0.6091 - accuracy: 0.6808 - binary_accuracy: 0.6808 - auc: 0.7461 - precision: 0.6808 - recall: 0.6807 - true_positives: 14707.0000 - true_negatives: 14713.0000 - false_positives: 6894.0000 - false_negatives: 6900.0000 - val_loss: 0.7578 - val_accuracy: 0.6008 - val_binary_accuracy: 0.6008 - val_auc: 0.6247 - val_precision: 0.6008 - val_recall: 0.6008 - val_true_positives: 587.0000 - val_true_negatives: 587.0000 - val_false_positives: 390.0000 - val_false_negatives: 390.0000\n",
            "Epoch 5/50\n",
            "676/676 [==============================] - 70s 104ms/step - loss: 0.6159 - accuracy: 0.6817 - binary_accuracy: 0.6818 - auc: 0.7456 - precision: 0.6818 - recall: 0.6818 - true_positives: 14732.0000 - true_negatives: 14730.0000 - false_positives: 6877.0000 - false_negatives: 6875.0000 - val_loss: 0.7578 - val_accuracy: 0.5865 - val_binary_accuracy: 0.5865 - val_auc: 0.6181 - val_precision: 0.5867 - val_recall: 0.5855 - val_true_positives: 572.0000 - val_true_negatives: 574.0000 - val_false_positives: 403.0000 - val_false_negatives: 405.0000\n",
            "Epoch 6/50\n",
            "676/676 [==============================] - 70s 104ms/step - loss: 0.5854 - accuracy: 0.6978 - binary_accuracy: 0.6977 - auc: 0.7658 - precision: 0.6977 - recall: 0.6976 - true_positives: 15072.0000 - true_negatives: 15077.0000 - false_positives: 6530.0000 - false_negatives: 6535.0000 - val_loss: 0.7775 - val_accuracy: 0.5537 - val_binary_accuracy: 0.5542 - val_auc: 0.6092 - val_precision: 0.5543 - val_recall: 0.5537 - val_true_positives: 541.0000 - val_true_negatives: 542.0000 - val_false_positives: 435.0000 - val_false_negatives: 436.0000\n",
            "Epoch 7/50\n",
            "676/676 [==============================] - 71s 105ms/step - loss: 0.5894 - accuracy: 0.6999 - binary_accuracy: 0.6998 - auc: 0.7656 - precision: 0.6998 - recall: 0.6998 - true_positives: 15121.0000 - true_negatives: 15120.0000 - false_positives: 6487.0000 - false_negatives: 6486.0000 - val_loss: 0.9213 - val_accuracy: 0.5046 - val_binary_accuracy: 0.5046 - val_auc: 0.5823 - val_precision: 0.5046 - val_recall: 0.5046 - val_true_positives: 493.0000 - val_true_negatives: 493.0000 - val_false_positives: 484.0000 - val_false_negatives: 484.0000\n",
            "Epoch 8/50\n",
            "676/676 [==============================] - 70s 104ms/step - loss: 0.5932 - accuracy: 0.6982 - binary_accuracy: 0.6982 - auc: 0.7640 - precision: 0.6982 - recall: 0.6981 - true_positives: 15084.0000 - true_negatives: 15088.0000 - false_positives: 6519.0000 - false_negatives: 6523.0000 - val_loss: 0.7320 - val_accuracy: 0.6254 - val_binary_accuracy: 0.6249 - val_auc: 0.6549 - val_precision: 0.6247 - val_recall: 0.6254 - val_true_positives: 611.0000 - val_true_negatives: 610.0000 - val_false_positives: 367.0000 - val_false_negatives: 366.0000\n",
            "Epoch 9/50\n",
            "676/676 [==============================] - 70s 104ms/step - loss: 0.5918 - accuracy: 0.7002 - binary_accuracy: 0.7003 - auc: 0.7664 - precision: 0.7004 - recall: 0.7001 - true_positives: 15127.0000 - true_negatives: 15136.0000 - false_positives: 6471.0000 - false_negatives: 6480.0000 - val_loss: 0.7524 - val_accuracy: 0.5896 - val_binary_accuracy: 0.5885 - val_auc: 0.6326 - val_precision: 0.5887 - val_recall: 0.5875 - val_true_positives: 574.0000 - val_true_negatives: 576.0000 - val_false_positives: 401.0000 - val_false_negatives: 403.0000\n",
            "Epoch 10/50\n",
            "676/676 [==============================] - 71s 105ms/step - loss: 0.5890 - accuracy: 0.7056 - binary_accuracy: 0.7057 - auc: 0.7701 - precision: 0.7058 - recall: 0.7055 - true_positives: 15244.0000 - true_negatives: 15253.0000 - false_positives: 6354.0000 - false_negatives: 6363.0000 - val_loss: 0.7834 - val_accuracy: 0.5670 - val_binary_accuracy: 0.5670 - val_auc: 0.6213 - val_precision: 0.5673 - val_recall: 0.5650 - val_true_positives: 552.0000 - val_true_negatives: 556.0000 - val_false_positives: 421.0000 - val_false_negatives: 425.0000\n",
            "Epoch 11/50\n",
            "676/676 [==============================] - 70s 104ms/step - loss: 0.5913 - accuracy: 0.7013 - binary_accuracy: 0.7012 - auc: 0.7684 - precision: 0.7012 - recall: 0.7012 - true_positives: 15151.0000 - true_negatives: 15152.0000 - false_positives: 6455.0000 - false_negatives: 6456.0000 - val_loss: 1.0573 - val_accuracy: 0.4985 - val_binary_accuracy: 0.4985 - val_auc: 0.5861 - val_precision: 0.4985 - val_recall: 0.4985 - val_true_positives: 487.0000 - val_true_negatives: 487.0000 - val_false_positives: 490.0000 - val_false_negatives: 490.0000\n",
            "Epoch 12/50\n",
            "676/676 [==============================] - 70s 103ms/step - loss: 0.5966 - accuracy: 0.7007 - binary_accuracy: 0.7007 - auc: 0.7655 - precision: 0.7007 - recall: 0.7008 - true_positives: 15142.0000 - true_negatives: 15139.0000 - false_positives: 6468.0000 - false_negatives: 6465.0000 - val_loss: 0.8107 - val_accuracy: 0.5589 - val_binary_accuracy: 0.5594 - val_auc: 0.6167 - val_precision: 0.5594 - val_recall: 0.5589 - val_true_positives: 546.0000 - val_true_negatives: 547.0000 - val_false_positives: 430.0000 - val_false_negatives: 431.0000\n",
            "Epoch 13/50\n",
            "676/676 [==============================] - 70s 104ms/step - loss: 0.5692 - accuracy: 0.7105 - binary_accuracy: 0.7104 - auc: 0.7830 - precision: 0.7104 - recall: 0.7103 - true_positives: 15348.0000 - true_negatives: 15351.0000 - false_positives: 6256.0000 - false_negatives: 6259.0000 - val_loss: 0.8461 - val_accuracy: 0.5394 - val_binary_accuracy: 0.5384 - val_auc: 0.6070 - val_precision: 0.5384 - val_recall: 0.5384 - val_true_positives: 526.0000 - val_true_negatives: 526.0000 - val_false_positives: 451.0000 - val_false_negatives: 451.0000\n",
            "Epoch 13: early stopping\n"
          ]
        },
        {
          "output_type": "execute_result",
          "data": {
            "text/plain": [
              "13"
            ]
          },
          "metadata": {},
          "execution_count": 18
        }
      ]
    },
    {
      "cell_type": "code",
      "metadata": {
        "colab": {
          "base_uri": "https://localhost:8080/"
        },
        "id": "9TApwBlMm4Z9",
        "outputId": "bb307dbd-647f-4244-aef0-d7338e04d5a2"
      },
      "source": [
        "#evalute model with test set\n",
        "from sklearn.metrics import roc_curve, auc\n",
        "model.evaluate(test_set, verbose=1)"
      ],
      "execution_count": null,
      "outputs": [
        {
          "output_type": "stream",
          "name": "stdout",
          "text": [
            "30/30 [==============================] - 3s 102ms/step - loss: 0.7536 - accuracy: 0.5820 - binary_accuracy: 0.5820 - auc: 0.6779 - precision: 0.5822 - recall: 0.5810 - true_positives: 556.0000 - true_negatives: 558.0000 - false_positives: 399.0000 - false_negatives: 401.0000\n"
          ]
        },
        {
          "output_type": "execute_result",
          "data": {
            "text/plain": [
              "[0.7535557150840759,\n",
              " 0.5820271968841553,\n",
              " 0.5820271968841553,\n",
              " 0.6779059171676636,\n",
              " 0.582198977470398,\n",
              " 0.5809822082519531,\n",
              " 556.0,\n",
              " 558.0,\n",
              " 399.0,\n",
              " 401.0]"
            ]
          },
          "metadata": {},
          "execution_count": 20
        }
      ]
    },
    {
      "cell_type": "code",
      "metadata": {
        "colab": {
          "base_uri": "https://localhost:8080/",
          "height": 297
        },
        "id": "aJf2CHx7m6mS",
        "outputId": "798b5264-1e9c-4f50-98c4-1aa52f28d9db"
      },
      "source": [
        "#plot loss\n",
        "import matplotlib.pyplot as plt\n",
        "plt.plot(history.history[\"loss\"], label = \"Train loss\")\n",
        "plt.plot(history.history[\"val_loss\"], label = \"Validation loss\")\n",
        "plt.xlabel('Number of Epochs')\n",
        "plt.ylabel('Loss')\n",
        "plt.legend()\n",
        "plt.show()\n",
        "plt.savefig(\"LossVal_loss\")"
      ],
      "execution_count": null,
      "outputs": [
        {
          "output_type": "display_data",
          "data": {
            "image/png": "[encoded data removed]",
            "text/plain": [
              "<Figure size 432x288 with 1 Axes>"
            ]
          },
          "metadata": {
            "needs_background": "light"
          }
        },
        {
          "output_type": "display_data",
          "data": {
            "text/plain": [
              "<Figure size 432x288 with 0 Axes>"
            ]
          },
          "metadata": {}
        }
      ]
    },
    {
      "cell_type": "code",
      "metadata": {
        "colab": {
          "base_uri": "https://localhost:8080/",
          "height": 297
        },
        "id": "0jfSogQhnAY0",
        "outputId": "dbadeff9-770f-4414-e8f4-72ec6c1ebe0e"
      },
      "source": [
        "#plot accuracy\n",
        "plt.plot(history.history[\"accuracy\"], label = \"Train accuracy\")\n",
        "plt.plot(history.history[\"val_accuracy\"], label = \"Validation accuracy\")\n",
        "plt.xlabel('Number of Epochs')\n",
        "plt.ylabel('Accuracy')\n",
        "plt.legend()\n",
        "plt.show()\n",
        "plt.savefig(\"AccVal_acc\")"
      ],
      "execution_count": null,
      "outputs": [
        {
          "output_type": "display_data",
          "data": {
            "image/png": "[encoded data removed]",
            "text/plain": [
              "<Figure size 432x288 with 1 Axes>"
            ]
          },
          "metadata": {
            "needs_background": "light"
          }
        },
        {
          "output_type": "display_data",
          "data": {
            "text/plain": [
              "<Figure size 432x288 with 0 Axes>"
            ]
          },
          "metadata": {}
        }
      ]
    }
  ]
}